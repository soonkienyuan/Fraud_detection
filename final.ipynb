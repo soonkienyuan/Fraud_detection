{
 "cells": [
  {
   "cell_type": "markdown",
   "metadata": {},
   "source": [
    "# Summary\n",
    "\n",
    "To make real progress along the path toward becoming an expert in the data mining field, it is helpful to apply all your data mining knowledge to a project task. This project will require you to explore the actual data, gain experience implementing data mining projects and become industry-ready.\n",
    "\n",
    "# Instruction\n",
    "- browse the internet for the topics covered in the data mining field and choose ONE topic that best suits your group.\n",
    "- discuss with your colleagues the problems/ issues to solve and select the MESSY/ NOISE data (may extract several datasets) from established sources from websites such as GitHub, Kaggle, UCI repository, etc. The dataset must be reflected/contribute to the real-world problem you will solve. Each group should have different problems to solve.\n",
    "- utilise python or any analytics tools to develop data mining models and solve the problem. Additional tools to be used are recommended."
   ]
  },
  {
   "cell_type": "code",
   "execution_count": null,
   "metadata": {},
   "outputs": [],
   "source": [
    "print(\"hello world\")"
   ]
  }
 ],
 "metadata": {
  "kernelspec": {
   "display_name": "Python 3.10.2 64-bit",
   "language": "python",
   "name": "python3"
  },
  "language_info": {
   "name": "python",
   "version": "3.10.2 (tags/v3.10.2:a58ebcc, Jan 17 2022, 14:12:15) [MSC v.1929 64 bit (AMD64)]"
  },
  "vscode": {
   "interpreter": {
    "hash": "2324a66782fee6ab9f0bdb3c9e79ee636ed86487484f245c4444858429ce7730"
   }
  }
 },
 "nbformat": 4,
 "nbformat_minor": 2
}
