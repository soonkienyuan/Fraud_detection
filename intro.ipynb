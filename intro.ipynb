{
 "cells": [
  {
   "cell_type": "markdown",
   "metadata": {},
   "source": [
    "# Summary\n",
    "\n",
    "To make real progress along the path toward becoming an expert in the data mining field, it is helpful to apply all your data mining knowledge to a project task. This project will require you to explore the actual data, gain experience implementing data mining projects and become industry-ready."
   ]
  },
  {
   "cell_type": "markdown",
   "metadata": {},
   "source": [
    "# Instruction\n",
    "- browse the internet for the topics covered in the data mining field and choose ONE topic that best suits your group.\n",
    "- discuss with your colleagues the problems/ issues to solve and select the MESSY/ NOISE data (may extract several datasets) from established sources from websites such as GitHub, Kaggle, UCI repository, etc. The dataset must be reflected/contribute to the real-world problem you will solve. Each group should have different problems to solve.\n",
    "- utilise python or any analytics tools to develop data mining models and solve the problem. Additional tools to be used are recommended.\n",
    "  "
   ]
  },
  {
   "cell_type": "markdown",
   "metadata": {},
   "source": [
    "# Requirements\n",
    "The project requires all the followings:\n",
    "1. **Executive Summary**\n",
    "   \n",
    "    Description of the selected project, problem to be solved, and basic description of the data set from the sources.\n",
    "\n",
    "2. **Summary of the Project Context and Objectives**\n",
    "   \n",
    "    Summarise your project context and list the objectives covered in your project.\n",
    "\n",
    "3. **Methodology**\n",
    "\n",
    "    Create a data pipeline to depict your sequence of actions that move data from a source to a destination. Show and explain all phases or steps involved in the data mining process, including the data preprocessing (ETL/ ELT), modelling, evaluation and deployment in your project development.\n",
    "\n",
    "4. **Results and Discussion**\n",
    "\n",
    "    Produce and explain all codes, GUI, graphs, diagrams, or any visualisation output from the project development.\n",
    "\n",
    "5. **Conclusion**\n",
    "\n",
    "    Conclude your project and discuss some contributions to society, the environment, systems, etc.\n",
    "\n",
    "6. **References**\n",
    "\n",
    "    Cite every single reference used in completing the project. \n"
   ]
  }
 ],
 "metadata": {
  "kernelspec": {
   "display_name": "Python 3.10.2 64-bit",
   "language": "python",
   "name": "python3"
  },
  "language_info": {
   "name": "python",
   "version": "3.10.2 (tags/v3.10.2:a58ebcc, Jan 17 2022, 14:12:15) [MSC v.1929 64 bit (AMD64)]"
  },
  "orig_nbformat": 4,
  "vscode": {
   "interpreter": {
    "hash": "2324a66782fee6ab9f0bdb3c9e79ee636ed86487484f245c4444858429ce7730"
   }
  }
 },
 "nbformat": 4,
 "nbformat_minor": 2
}
